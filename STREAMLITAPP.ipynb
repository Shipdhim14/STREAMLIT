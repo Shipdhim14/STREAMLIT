{
  "nbformat": 4,
  "nbformat_minor": 0,
  "metadata": {
    "colab": {
      "name": "STREAMLITAPP.ipynb",
      "private_outputs": true,
      "provenance": [],
      "authorship_tag": "ABX9TyOaXyOguOYbfnSROsaZRL3E",
      "include_colab_link": true
    },
    "kernelspec": {
      "name": "python3",
      "display_name": "Python 3"
    },
    "language_info": {
      "name": "python"
    }
  },
  "cells": [
    {
      "cell_type": "markdown",
      "metadata": {
        "id": "view-in-github",
        "colab_type": "text"
      },
      "source": [
        "<a href=\"https://colab.research.google.com/github/Shipdhim14/STREAMLIT/blob/main/STREAMLITAPP.ipynb\" target=\"_parent\"><img src=\"https://colab.research.google.com/assets/colab-badge.svg\" alt=\"Open In Colab\"/></a>"
      ]
    },
    {
      "cell_type": "code",
      "execution_count": null,
      "metadata": {
        "id": "GGP7ZdULmTAJ"
      },
      "outputs": [],
      "source": [
        "!pip install streamlit"
      ]
    },
    {
      "cell_type": "code",
      "source": [
        "!pip install pyngrok"
      ],
      "metadata": {
        "id": "WBnAVzdrm8tc"
      },
      "execution_count": null,
      "outputs": []
    },
    {
      "cell_type": "code",
      "source": [
        "%%writefile app.py\n",
        "import streamlit as st\n",
        "import pickle\n",
        "import numpy as np\n",
        "\n",
        "# import the model\n",
        "pipe = pickle.load(open('pipe.pkl','rb'))\n",
        "df = pickle.load(open('df.pkl','rb'))\n",
        "\n",
        "st.title(\"Laptop Predictor\")\n",
        "\n",
        "# brand\n",
        "company = st.selectbox('Brand',df['Company'].unique())\n",
        "\n",
        "# type of laptop\n",
        "type = st.selectbox('Type',df['TypeName'].unique())\n",
        "\n",
        "# Ram\n",
        "ram = st.selectbox('RAM(in GB)',[2,4,6,8,12,16,24,32,64])\n",
        "\n",
        "# weight\n",
        "weight = st.number_input('Weight of the Laptop')\n",
        "\n",
        "# Touchscreen\n",
        "touchscreen = st.selectbox('Touchscreen',['No','Yes'])\n",
        "\n",
        "# IPS\n",
        "ips = st.selectbox('IPS',['No','Yes'])\n",
        "\n",
        "# screen size\n",
        "screen_size = st.number_input('Screen Size')\n",
        "\n",
        "# resolution\n",
        "resolution = st.selectbox('Screen Resolution',['1920x1080','1366x768','1600x900','3840x2160','3200x1800','2880x1800','2560x1600','2560x1440','2304x1440'])\n",
        "\n",
        "#cpu\n",
        "cpu = st.selectbox('CPU',df['Cpu brand'].unique())\n",
        "\n",
        "hdd = st.selectbox('HDD(in GB)',[0,128,256,512,1024,2048])\n",
        "\n",
        "ssd = st.selectbox('SSD(in GB)',[0,8,128,256,512,1024])\n",
        "\n",
        "gpu = st.selectbox('GPU',df['Gpu brand'].unique())\n",
        "\n",
        "os = st.selectbox('OS',df['os'].unique())\n",
        "\n",
        "if st.button('Predict Price'):\n",
        "    # query\n",
        "    ppi = None\n",
        "    if touchscreen == 'Yes':\n",
        "        touchscreen = 1\n",
        "    else:\n",
        "        touchscreen = 0\n",
        "\n",
        "    if ips == 'Yes':\n",
        "        ips = 1\n",
        "    else:\n",
        "        ips = 0\n",
        "\n",
        "    X_res = int(resolution.split('x')[0])\n",
        "    Y_res = int(resolution.split('x')[1])\n",
        "    ppi = ((X_res**2) + (Y_res**2))**0.5/screen_size\n",
        "    query = np.array([company,type,ram,weight,touchscreen,ips,ppi,cpu,hdd,ssd,gpu,os])\n",
        "\n",
        "    query = query.reshape(1,12)\n",
        "    st.title(\"The predicted price of this configuration is \" + str(int(np.exp(pipe.predict(query)[0]))))"
      ],
      "metadata": {
        "id": "rks9oSnzm8wo"
      },
      "execution_count": null,
      "outputs": []
    },
    {
      "cell_type": "code",
      "source": [
        "!ls"
      ],
      "metadata": {
        "id": "cr-kynCum8z3"
      },
      "execution_count": null,
      "outputs": []
    },
    {
      "cell_type": "code",
      "source": [
        "!ngrok authtoken 25f4vJspBYsngnhWrrUNfMaXnwq_6sfueMVS7AXA4jWTEwRt8 "
      ],
      "metadata": {
        "id": "5qpL1w5Em82O"
      },
      "execution_count": null,
      "outputs": []
    },
    {
      "cell_type": "code",
      "source": [
        "!ngrok"
      ],
      "metadata": {
        "id": "42bnVnOwm84w"
      },
      "execution_count": null,
      "outputs": []
    },
    {
      "cell_type": "code",
      "source": [
        "from pyngrok import ngrok"
      ],
      "metadata": {
        "id": "9pIf0RXnoz_q"
      },
      "execution_count": null,
      "outputs": []
    },
    {
      "cell_type": "code",
      "source": [
        "!streamlit run app.py&>/dev/null&"
      ],
      "metadata": {
        "id": "7K_X8jrTpwTA"
      },
      "execution_count": null,
      "outputs": []
    },
    {
      "cell_type": "code",
      "source": [
        "!pgrep streamlit"
      ],
      "metadata": {
        "id": "w5zimEeupwVW"
      },
      "execution_count": null,
      "outputs": []
    },
    {
      "cell_type": "code",
      "source": [
        "pub_url = ngrok.connect(port='8501')"
      ],
      "metadata": {
        "id": "MCpG0KSMo0CS"
      },
      "execution_count": null,
      "outputs": []
    },
    {
      "cell_type": "code",
      "source": [
        "pub_url"
      ],
      "metadata": {
        "id": "F-0P-E_io0Eb"
      },
      "execution_count": null,
      "outputs": []
    },
    {
      "cell_type": "code",
      "source": [
        ""
      ],
      "metadata": {
        "id": "qCdnYsrio0Gk"
      },
      "execution_count": null,
      "outputs": []
    },
    {
      "cell_type": "code",
      "source": [
        ""
      ],
      "metadata": {
        "id": "OuyMWCvxo0I6"
      },
      "execution_count": null,
      "outputs": []
    }
  ]
}